{
 "cells": [
  {
   "cell_type": "code",
   "execution_count": 38,
   "metadata": {
    "collapsed": true
   },
   "outputs": [],
   "source": [
    "consumer_lat = 31.191472\n",
    "consumer_long= 121.426425 \n",
    "position_square= 0.015\n",
    "\n",
    "# Import:\n",
    "import sqlite3\n",
    "import pandas as pd\n",
    "import matplotlib.pyplot as plt\n",
    "import seaborn as sns\n",
    "import numpy as np\n",
    "import logging\n",
    "import networkx as nx\n",
    "import csv\n",
    "import math\n",
    "import geojson\n",
    "from geojson import Point, LineString, Feature, FeatureCollection\n",
    "\n",
    "\n",
    "\n",
    "\n",
    "\n",
    "\n"
   ]
  },
  {
   "cell_type": "code",
   "execution_count": 39,
   "metadata": {
    "collapsed": true
   },
   "outputs": [],
   "source": [
    "####### SUGESTION OF TRACK\n",
    "\n",
    "# Start point\n",
    "\n",
    "my_starting_point = (consumer_lat,consumer_long)\n",
    "\n",
    "# Function Distance\n",
    "def get_distance(pos1,pos2) :\n",
    "    dst = math.pow((pos1[0]-pos2[0]),2)+math.pow((pos1[1]-pos2[1]),2)\n",
    "    return dst\n",
    "\n",
    " "
   ]
  },
  {
   "cell_type": "code",
   "execution_count": 40,
   "metadata": {},
   "outputs": [
    {
     "name": "stdout",
     "output_type": "stream",
     "text": [
      "(['综合商场', '港汇恒隆广场(这是一条测试商户数据，仅用于测试开发，开发完成后请申请正式数据...)', '121.4379', '31.19497', '1855', '徐汇区虹桥路1号', '7.8', '4635', '40.0'], 16286.133238176208)\n"
     ]
    }
   ],
   "source": [
    "########## Case 1 = Buy T-shirt   + Food  ----> Cinéma \n",
    "\n",
    "#1° Shop :\n",
    "shop_spamreader = csv.reader(open('/Users/maximebouget/Documents/Entrepreneurial/Hackathon/Urban Data-Shanghai-14:12:17/Github_TimeU/DATA/shop_places.csv','r'),delimiter='|')\n",
    "\n",
    "closest_shop = (None, None)\n",
    "for shop_place in shop_spamreader:\n",
    "    lon = float(shop_place[2])\n",
    "    lat = float(shop_place[3])\n",
    "    point = (lon, lat)\n",
    "    distance= get_distance(my_starting_point,point)\n",
    "    if closest_shop[0] is None:\n",
    "        closest_shop = (shop_place, distance)\n",
    "    elif closest_shop[1] > distance:\n",
    "        closest_shop = (shop_place, distance)\n",
    "\n",
    "print(closest_shop)\n"
   ]
  },
  {
   "cell_type": "code",
   "execution_count": 41,
   "metadata": {},
   "outputs": [
    {
     "name": "stdout",
     "output_type": "stream",
     "text": [
      "(['粤菜', '唐宫(这是一条测试商户数据，仅用于测试开发，开发完成后请申请正式数据...)', '121.41172', '31.204002', '126.0', '1219', '长宁区中山西路888号银河宾馆2楼', '7.7', '2600', '40.0'], 16281.218328836905)\n"
     ]
    }
   ],
   "source": [
    "#2° Food:\n",
    "food_spamreader = csv.reader(open('/Users/maximebouget/Documents/Entrepreneurial/Hackathon/Urban Data-Shanghai-14:12:17/Github_TimeU/DATA/food_places.csv','r'),delimiter='|')\n",
    "my_shop_point =(float(closest_shop[0][3]),float(closest_shop[0][2]))\n",
    "closest_food = (None, None)\n",
    "for food_place in food_spamreader:\n",
    "    lon = float(food_place[2])\n",
    "    lat = float(food_place[3])\n",
    "    point = (lon, lat)\n",
    "    distance= get_distance(my_shop_point,point)\n",
    "    if closest_food[0] is None:\n",
    "        closest_food = (food_place, distance)\n",
    "    elif closest_food[1] > distance:\n",
    "        closest_food = (food_place, distance)\n",
    "\n",
    "print(closest_food)"
   ]
  },
  {
   "cell_type": "code",
   "execution_count": 42,
   "metadata": {},
   "outputs": [
    {
     "name": "stdout",
     "output_type": "stream",
     "text": [
      "(['电影院', 'MC电影空间(这是一条测试商户数据，仅用于测试开发，开发完成后请申请正式数据...)', '121.42961', '31.20399', '57.0', '158', '长宁区番禺路390号时代大厦607、608（1楼movie coffee进入）', '7.9', '209', '40.0'], 16278.094890722563)\n"
     ]
    }
   ],
   "source": [
    "#3° Cinema:\n",
    "cinema_spamreader = csv.reader(open('/Users/maximebouget/Documents/Entrepreneurial/Hackathon/Urban Data-Shanghai-14:12:17/Github_TimeU/DATA/cinema_places.csv','r'),delimiter='|')\n",
    "my_food_point =(float(closest_food[0][3]),float(closest_food[0][2]))\n",
    "closest_cinema = (None, None)\n",
    "for cinema_place in cinema_spamreader:\n",
    "    lon = float(cinema_place[2])\n",
    "    lat = float(cinema_place[3])\n",
    "    point = (lon, lat)\n",
    "    distance= get_distance(my_food_point,point)\n",
    "    if closest_cinema[0] is None:\n",
    "        closest_cinema = (cinema_place, distance)\n",
    "    elif closest_cinema[1] > distance:\n",
    "        closest_cinema = (cinema_place, distance)\n",
    "\n",
    "print(closest_cinema)"
   ]
  },
  {
   "cell_type": "code",
   "execution_count": 43,
   "metadata": {},
   "outputs": [
    {
     "name": "stdout",
     "output_type": "stream",
     "text": [
      "(('综合商场', '港汇恒隆广场(这是一条测试商户数据，仅用于测试开发，开发完成后请申请正式数据...)', '121.4379', '31.19497', '徐汇区虹桥路1号', '7.8'), ('粤菜', '唐宫(这是一条测试商户数据，仅用于测试开发，开发完成后请申请正式数据...)', '121.41172', '31.204002', '长宁区中山西路888号银河宾馆2楼', '7.7'), ('电影院', 'MC电影空间(这是一条测试商户数据，仅用于测试开发，开发完成后请申请正式数据...)', '121.42961', '31.20399', '长宁区番禺路390号时代大厦607、608（1楼movie coffee进入）', '7.9'))\n"
     ]
    }
   ],
   "source": [
    "caseOneshop=(closest_shop[0][0],closest_shop[0][1],closest_shop[0][2],closest_shop[0][3],closest_shop[0][5],closest_shop[0][6])\n",
    "caseOnefood=(closest_food[0][0],closest_food[0][1],closest_food[0][2],closest_food[0][3],closest_food[0][6],closest_food[0][7])\n",
    "caseOnecinema=(closest_cinema[0][0],closest_cinema[0][1],closest_cinema[0][2],closest_cinema[0][3],closest_cinema[0][6],closest_cinema[0][7])\n",
    "caseOne= (caseOneshop, caseOnefood, caseOnecinema)\n",
    "print(caseOne)"
   ]
  },
  {
   "cell_type": "code",
   "execution_count": 91,
   "metadata": {},
   "outputs": [
    {
     "name": "stdout",
     "output_type": "stream",
     "text": [
      "{\"features\": [{\"geometry\": {\"coordinates\": [[31.19497, 121.4379], [31.204002, 121.41172]], \"type\": \"LineString\"}, \"properties\": {\"Name\": \"\\u6e2f\\u6c47\\u6052\\u9686\\u5e7f\\u573a(\\u8fd9\\u662f\\u4e00\\u6761\\u6d4b\\u8bd5\\u5546\\u6237\\u6570\\u636e\\uff0c\\u4ec5\\u7528\\u4e8e\\u6d4b\\u8bd5\\u5f00\\u53d1\\uff0c\\u5f00\\u53d1\\u5b8c\\u6210\\u540e\\u8bf7\\u7533\\u8bf7\\u6b63\\u5f0f\\u6570\\u636e...)\"}, \"type\": \"Feature\"}, {\"geometry\": {\"coordinates\": [[31.19497, 121.4379], [31.204002, 121.41172]], \"type\": \"LineString\"}, \"properties\": {\"Name\": \"\\u6e2f\\u6c47\\u6052\\u9686\\u5e7f\\u573a(\\u8fd9\\u662f\\u4e00\\u6761\\u6d4b\\u8bd5\\u5546\\u6237\\u6570\\u636e\\uff0c\\u4ec5\\u7528\\u4e8e\\u6d4b\\u8bd5\\u5f00\\u53d1\\uff0c\\u5f00\\u53d1\\u5b8c\\u6210\\u540e\\u8bf7\\u7533\\u8bf7\\u6b63\\u5f0f\\u6570\\u636e...)\"}, \"type\": \"Feature\"}, {\"geometry\": {\"coordinates\": [[31.19497, 121.4379], [31.204002, 121.41172]], \"type\": \"LineString\"}, \"properties\": {\"Name\": \"\\u6e2f\\u6c47\\u6052\\u9686\\u5e7f\\u573a(\\u8fd9\\u662f\\u4e00\\u6761\\u6d4b\\u8bd5\\u5546\\u6237\\u6570\\u636e\\uff0c\\u4ec5\\u7528\\u4e8e\\u6d4b\\u8bd5\\u5f00\\u53d1\\uff0c\\u5f00\\u53d1\\u5b8c\\u6210\\u540e\\u8bf7\\u7533\\u8bf7\\u6b63\\u5f0f\\u6570\\u636e...)\"}, \"type\": \"Feature\"}], \"type\": \"FeatureCollection\"}\n"
     ]
    }
   ],
   "source": [
    "'''featureCollection=[]\n",
    "for case in caseOne:\n",
    "    place = Point((float(caseOne[i][3]),float(caseOne[i][2])))\n",
    "    name = caseOne[i][1]\n",
    "    adress = caseOne[i][4]\n",
    "    grade = caseOne[i][5]\n",
    "    feature=Feature(geometry=place, properties={'Name':name,'Adress':adress,'Grade':grade})\n",
    "    featureCollection.append(feature)\n",
    "featureCollection=FeatureCollection(featureCollection)\n",
    "dump=geojson.dumps(featureCollectionline,sort_keys=True)\n",
    "print(dump)'''"
   ]
  },
  {
   "cell_type": "code",
   "execution_count": 95,
   "metadata": {},
   "outputs": [
    {
     "name": "stdout",
     "output_type": "stream",
     "text": [
      "{\"coordinates\": [[31.19497, 121.4379], [31.204002, 121.41172]], \"type\": \"LineString\"}\n",
      "{\"features\": [{\"geometry\": {\"coordinates\": [[31.19497, 121.4379], [31.204002, 121.41172]], \"type\": \"LineString\"}, \"properties\": {\"Name\": \"\\u7efc\\u5408\\u5546\\u573a-->\\u7ca4\\u83dc\"}, \"type\": \"Feature\"}], \"type\": \"FeatureCollection\"}\n"
     ]
    }
   ],
   "source": [
    "featureCollection=[]\n",
    "for i in range(0,len(caseOne)-2):\n",
    "    start = Point((float(caseOne[i][3]),float(caseOne[i][2])))\n",
    "    end = Point((float(caseOne[i+1][3]),float(caseOne[i+1][2])))\n",
    "    linestring = LineString([start, end])\n",
    "    print(linestring)\n",
    "    name = caseOne[i][0] + '-->' + caseOne[i+1][0]\n",
    "    feature=Feature(geometry=linestring, properties={'Name':name})\n",
    "    featureCollection.append(feature)\n",
    "featureCollection=FeatureCollection(featureCollection)\n",
    "\n",
    "dump=geojson.dumps(featureCollection,sort_keys=True)\n",
    "print(dump)"
   ]
  },
  {
   "cell_type": "code",
   "execution_count": null,
   "metadata": {
    "collapsed": true
   },
   "outputs": [],
   "source": []
  }
 ],
 "metadata": {
  "kernelspec": {
   "display_name": "Python 3",
   "language": "python",
   "name": "python3"
  },
  "language_info": {
   "codemirror_mode": {
    "name": "ipython",
    "version": 3
   },
   "file_extension": ".py",
   "mimetype": "text/x-python",
   "name": "python",
   "nbconvert_exporter": "python",
   "pygments_lexer": "ipython3",
   "version": "3.6.3"
  }
 },
 "nbformat": 4,
 "nbformat_minor": 2
}
