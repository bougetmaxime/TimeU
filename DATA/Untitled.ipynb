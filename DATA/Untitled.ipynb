{
 "cells": [
  {
   "cell_type": "code",
   "execution_count": 18,
   "metadata": {},
   "outputs": [
    {
     "name": "stdout",
     "output_type": "stream",
     "text": [
      "(['文化艺术', '儿童博物馆(这是一条测试商户数据，仅用于测试开发，开发完成后请申请正式数据...)', '121.41325', '31.193876', '352', '长宁区宋园路61号', '399', '40.0'], 16281.882124518685)\n",
      "(['游泳馆', '斯波特酒店游泳池(这是一条测试商户数据，仅用于测试开发，开发完成后请申请正式数据...)', '121.43553', '31.189205', '16', '徐汇区南丹路15号B1楼', '75', '40.0', '7.6'], 16283.93441281774)\n",
      "(('文化艺术', '儿童博物馆(这是一条测试商户数据，仅用于测试开发，开发完成后请申请正式数据...)', '121.41325', '31.193876', '长宁区宋园路61号'), ('游泳馆', '斯波特酒店游泳池(这是一条测试商户数据，仅用于测试开发，开发完成后请申请正式数据...)', '121.43553', '31.189205', '7.6'))\n"
     ]
    }
   ],
   "source": [
    "consumer_lat = 31.191472\n",
    "consumer_long= 121.426425 \n",
    "position_square= 0.015\n",
    "\n",
    "# Import:\n",
    "import sqlite3\n",
    "import pandas as pd\n",
    "import matplotlib.pyplot as plt\n",
    "import seaborn as sns\n",
    "import numpy as np\n",
    "import logging\n",
    "import networkx as nx\n",
    "import csv\n",
    "import math\n",
    "import geojson\n",
    "from geojson import Point, LineString, Feature, FeatureCollection\n",
    "\n",
    "\n",
    "\n",
    "\n",
    "\n",
    "\n",
    "####### SUGESTION OF TRACK\n",
    "\n",
    "# Start point\n",
    "\n",
    "my_starting_point = (consumer_lat,consumer_long)\n",
    "\n",
    "# Function Distance\n",
    "def get_distance(pos1,pos2) :\n",
    "    dst = math.pow((pos1[0]-pos2[0]),2)+math.pow((pos1[1]-pos2[1]),2)\n",
    "    return dst\n",
    "\n",
    "\n",
    "\n",
    " \n",
    "########## Case 2 = Museum  ----> Swimming pool\n",
    "\n",
    "#1° Art & Culture :\n",
    "artculture_spamreader = csv.reader(open('/Users/maximebouget/Documents/Entrepreneurial/Hackathon/Urban Data-Shanghai-14:12:17/Github_TimeU/DATA/artculture_places.csv','r'),delimiter='|')\n",
    "\n",
    "closest_artculture = (None, None)\n",
    "for artculture_place in artculture_spamreader:\n",
    "    lon = float(artculture_place[2])\n",
    "    lat = float(artculture_place[3])\n",
    "    point = (lon, lat)\n",
    "    distance= get_distance(my_starting_point,point)\n",
    "    if closest_artculture[0] is None:\n",
    "        closest_artculture = (artculture_place, distance)\n",
    "    elif closest_artculture[1] > distance:\n",
    "        closest_artculture = (artculture_place, distance)\n",
    "\n",
    "print(closest_artculture)\n",
    "\n",
    "#2° Swimming pool:\n",
    "swim_spamreader = csv.reader(open('/Users/maximebouget/Documents/Entrepreneurial/Hackathon/Urban Data-Shanghai-14:12:17/Github_TimeU/DATA/swim_places.csv','r'),delimiter='|')\n",
    "my_artculture_point =(float(closest_artculture[0][3]),float(closest_artculture[0][2]))\n",
    "closest_swim = (None, None)\n",
    "for swim_place in swim_spamreader:\n",
    "    lon = float(swim_place[2])\n",
    "    lat = float(swim_place[3])\n",
    "    point = (lon, lat)\n",
    "    distance= get_distance(my_artculture_point,point)\n",
    "    if closest_swim[0] is None:\n",
    "        closest_swim = (swim_place, distance)\n",
    "    elif closest_swim[1] > distance:\n",
    "        closest_swim = (swim_place, distance)\n",
    "\n",
    "print(closest_swim)\n",
    "\n",
    "\n",
    "caseTwoartculture=(closest_artculture[0][0],closest_artculture[0][1],closest_artculture[0][2],closest_artculture[0][3],closest_artculture[0][5])\n",
    "caseTwoswim=(closest_swim[0][0],closest_swim[0][1],closest_swim[0][2],closest_swim[0][3],closest_swim[0][8])\n",
    "caseTwo= (caseTwoartculture, caseTwoswim)\n",
    "print(caseTwo)\n",
    "\n",
    "\n"
   ]
  },
  {
   "cell_type": "code",
   "execution_count": 19,
   "metadata": {},
   "outputs": [
    {
     "ename": "IndexError",
     "evalue": "tuple index out of range",
     "output_type": "error",
     "traceback": [
      "\u001b[0;31m---------------------------------------------------------------------------\u001b[0m",
      "\u001b[0;31mIndexError\u001b[0m                                Traceback (most recent call last)",
      "\u001b[0;32m<ipython-input-19-87fa6fa09c16>\u001b[0m in \u001b[0;36m<module>\u001b[0;34m()\u001b[0m\n\u001b[1;32m      6\u001b[0m     \u001b[0mname\u001b[0m \u001b[0;34m=\u001b[0m \u001b[0mcase\u001b[0m\u001b[0;34m[\u001b[0m\u001b[0;36m1\u001b[0m\u001b[0;34m]\u001b[0m\u001b[0;34m\u001b[0m\u001b[0m\n\u001b[1;32m      7\u001b[0m     \u001b[0madress\u001b[0m \u001b[0;34m=\u001b[0m \u001b[0mcase\u001b[0m\u001b[0;34m[\u001b[0m\u001b[0;36m4\u001b[0m\u001b[0;34m]\u001b[0m\u001b[0;34m\u001b[0m\u001b[0m\n\u001b[0;32m----> 8\u001b[0;31m     \u001b[0mgrade\u001b[0m \u001b[0;34m=\u001b[0m \u001b[0mcase\u001b[0m\u001b[0;34m[\u001b[0m\u001b[0;36m5\u001b[0m\u001b[0;34m]\u001b[0m\u001b[0;34m\u001b[0m\u001b[0m\n\u001b[0m\u001b[1;32m      9\u001b[0m     \u001b[0mfeature\u001b[0m\u001b[0;34m=\u001b[0m\u001b[0mFeature\u001b[0m\u001b[0;34m(\u001b[0m\u001b[0mgeometry\u001b[0m\u001b[0;34m=\u001b[0m\u001b[0mplace\u001b[0m\u001b[0;34m,\u001b[0m \u001b[0mproperties\u001b[0m\u001b[0;34m=\u001b[0m\u001b[0;34m{\u001b[0m\u001b[0;34m'Name'\u001b[0m\u001b[0;34m:\u001b[0m\u001b[0mname\u001b[0m\u001b[0;34m,\u001b[0m\u001b[0;34m'Adress'\u001b[0m\u001b[0;34m:\u001b[0m\u001b[0madress\u001b[0m\u001b[0;34m,\u001b[0m\u001b[0;34m'Grade'\u001b[0m\u001b[0;34m:\u001b[0m\u001b[0mgrade\u001b[0m\u001b[0;34m}\u001b[0m\u001b[0;34m)\u001b[0m\u001b[0;34m\u001b[0m\u001b[0m\n\u001b[1;32m     10\u001b[0m     \u001b[0mfeatureCollection\u001b[0m\u001b[0;34m.\u001b[0m\u001b[0mappend\u001b[0m\u001b[0;34m(\u001b[0m\u001b[0mfeature\u001b[0m\u001b[0;34m)\u001b[0m\u001b[0;34m\u001b[0m\u001b[0m\n",
      "\u001b[0;31mIndexError\u001b[0m: tuple index out of range"
     ]
    }
   ],
   "source": [
    "#Transforme to GEOJSON file\n",
    "\n",
    "featureCollection=[]\n",
    "for case in caseTwo:\n",
    "    place = Point((float(case[3]),float(case[2])))\n",
    "    name = case[1]\n",
    "    adress = case[4]\n",
    "    grade = case[5]\n",
    "    feature=Feature(geometry=place, properties={'Name':name,'Adress':adress,'Grade':grade})\n",
    "    featureCollection.append(feature)\n",
    "featureCollection=FeatureCollection(featureCollection)\n",
    "dump=geojson.dumps(featureCollectionline,sort_keys=True)\n",
    "print(dump)\n",
    "\n",
    "\n"
   ]
  },
  {
   "cell_type": "code",
   "execution_count": 17,
   "metadata": {},
   "outputs": [
    {
     "data": {
      "text/plain": [
       "\"featureCollection=[]\\nfor i in range(0,len(caseTwo)-2):\\n    start = Point((float(caseTwo[i][3]),float(caseTwo[i][2])))\\n    end = Point((float(caseTwo[i+1][3]),float(caseTwo[i+1][2])))\\n    linestring = LineString([start, end])\\n    print(linestring)\\n    name = caseTwo[i][0] + '-->' + caseTwo[i+1][0]\\n    feature=Feature(geometry=linestring, properties={'Name':name})\\n    featureCollection.append(feature)\\nfeatureCollection=FeatureCollection(featureCollection)\\n\\ndump=geojson.dumps(featureCollection,sort_keys=True)\\nprint(dump)\""
      ]
     },
     "execution_count": 17,
     "metadata": {},
     "output_type": "execute_result"
    }
   ],
   "source": [
    "'''featureCollection=[]\n",
    "for i in range(0,len(caseTwo)-2):\n",
    "    start = Point((float(caseTwo[i][3]),float(caseTwo[i][2])))\n",
    "    end = Point((float(caseTwo[i+1][3]),float(caseTwo[i+1][2])))\n",
    "    linestring = LineString([start, end])\n",
    "    print(linestring)\n",
    "    name = caseTwo[i][0] + '-->' + caseTwo[i+1][0]\n",
    "    feature=Feature(geometry=linestring, properties={'Name':name})\n",
    "    featureCollection.append(feature)\n",
    "featureCollection=FeatureCollection(featureCollection)\n",
    "\n",
    "dump=geojson.dumps(featureCollection,sort_keys=True)\n",
    "print(dump)'''"
   ]
  },
  {
   "cell_type": "code",
   "execution_count": null,
   "metadata": {
    "collapsed": true
   },
   "outputs": [],
   "source": []
  }
 ],
 "metadata": {
  "kernelspec": {
   "display_name": "Python 3",
   "language": "python",
   "name": "python3"
  },
  "language_info": {
   "codemirror_mode": {
    "name": "ipython",
    "version": 3
   },
   "file_extension": ".py",
   "mimetype": "text/x-python",
   "name": "python",
   "nbconvert_exporter": "python",
   "pygments_lexer": "ipython3",
   "version": "3.6.3"
  }
 },
 "nbformat": 4,
 "nbformat_minor": 2
}
